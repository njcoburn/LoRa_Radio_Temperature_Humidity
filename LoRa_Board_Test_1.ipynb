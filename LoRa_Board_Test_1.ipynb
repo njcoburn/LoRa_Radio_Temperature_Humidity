{
 "cells": [
  {
   "cell_type": "code",
   "execution_count": 1,
   "metadata": {},
   "outputs": [],
   "source": [
    "import serial\n",
    "import matplotlib.pyplot as plt\n",
    "import time\n",
    "import numpy as np"
   ]
  },
  {
   "cell_type": "code",
   "execution_count": 2,
   "metadata": {},
   "outputs": [],
   "source": [
    "start_time = time.time()\n",
    "\n",
    "data_path = \"\\\\Users\\\\njcoburn\\\\Documents\\\\LoRa_Radio\\\\\"\n",
    "experiment_name = \"Radio_Test_Kennedy\" "
   ]
  },
  {
   "cell_type": "code",
   "execution_count": 3,
   "metadata": {},
   "outputs": [
    {
     "name": "stdout",
     "output_type": "stream",
     "text": [
      "Textfile for DataLogs has been created.\n"
     ]
    }
   ],
   "source": [
    "Tfile = open(data_path + experiment_name+\"_DataLogs.txt\",\"w+\")\n",
    "localtime = time.asctime( time.localtime(time.time()) )\n",
    "Tfile.write(str(localtime)+\"\\n\")\n",
    "time.sleep(.2)\n",
    "\n",
    "print(\"Textfile for DataLogs has been created.\")"
   ]
  },
  {
   "cell_type": "code",
   "execution_count": 4,
   "metadata": {},
   "outputs": [
    {
     "name": "stdout",
     "output_type": "stream",
     "text": [
      "Serial Connection to TTGO LoRa Board Successful!\n"
     ]
    }
   ],
   "source": [
    "serialpath = '/dev/cu.usbserial-0203F12C'\n",
    "ser = serial.Serial(serialpath, 115200)\n",
    "ser.close()\n",
    "ser.open()\n",
    "\n",
    "print(\"Serial Connection to TTGO LoRa Board Successful!\")"
   ]
  },
  {
   "cell_type": "code",
   "execution_count": 5,
   "metadata": {},
   "outputs": [
    {
     "name": "stdout",
     "output_type": "stream",
     "text": [
      "86400\n",
      "0.0008308887481689453 -1.76 64.45 24.1\n",
      "0.0013589859008789062 -1.92 64.46 24.11\n",
      "0.0016508102416992188 -2.09 64.51 24.1\n",
      "4.631165981292725 -1.76 64.63 24.08\n",
      "22.51649785041809 -0.97 65.39 24.08\n",
      "40.3932249546051 3.15 66.62 24.2\n",
      "58.27458095550537 9.77 66.69 24.34\n",
      "76.14322400093079 10.42 66.14 24.45\n",
      "94.03140187263489 7.53 65.43 24.38\n",
      "111.89598107337952 2.87 64.49 24.4\n",
      "129.7723889350891 -2.06 64.4 24.63\n",
      "147.66528797149658 -2.02 64.56 24.89\n",
      "165.53636717796326 -1.49 63.24 24.8\n",
      "183.40006804466248 -10.07 60.15 23.82\n",
      "201.26318097114563 -26.13 61.69 23.03\n",
      "219.1336100101471 -17.33 64.12 22.34\n",
      "254.84766387939453 10.46 68.74 20.89\n",
      "559.0774579048157 2.91 69.37 22.02\n",
      "576.9566688537598 25.54 69.63 22.24\n",
      "594.8404967784882 27.0 69.83 22.47\n",
      "612.7186069488525 28.6 65.33 22.25\n",
      "630.5856559276581 2.85 67.36 21.25\n",
      "648.4553227424622 14.4 68.75 21.0\n",
      "666.3408477306366 22.03 69.79 20.74\n",
      "684.2193379402161 27.88 70.09 20.75\n",
      "702.0881531238556 29.57 70.02 20.49\n",
      "719.9714570045471 29.19 70.21 20.6\n",
      "755.7110600471497 80.89 78.68 25.12\n",
      "773.5888168811798 78.13 70.73 24.14\n",
      "791.4567379951477 28.3 65.28 21.54\n",
      "809.3193647861481 3.3 69.36 21.47\n",
      "827.5394361019135 -46.85 -6.0 -46.85\n",
      "846.1982510089874 -46.85 -6.0 -46.85\n",
      "864.8570628166199 -46.85 -6.0 -46.85\n",
      "883.5072870254517 -46.85 -6.0 -46.85\n",
      "901.8199348449707 25.49 66.01 21.5\n",
      "919.684633731842 7.29 70.23 22.58\n",
      "937.560506105423 28.33 71.37 23.56\n",
      "973.3143837451935 44.9 76.36 23.69\n",
      "991.1755909919739 64.99 76.84 23.57\n",
      "1009.0624377727509 67.55 76.58 23.62\n",
      "1026.941083908081 66.07 72.61 22.71\n",
      "1044.8149318695068 41.96 68.01 21.66\n",
      "1098.4549870491028 -9.62 63.12 21.88\n",
      "1152.0978419780731 14.4 68.04 21.29\n",
      "1169.9901371002197 18.24 70.17 20.77\n"
     ]
    },
    {
     "ename": "KeyboardInterrupt",
     "evalue": "",
     "output_type": "error",
     "traceback": [
      "\u001b[0;31m---------------------------------------------------------------------------\u001b[0m",
      "\u001b[0;31mKeyboardInterrupt\u001b[0m                         Traceback (most recent call last)",
      "\u001b[0;32m<ipython-input-5-a7be98cfb203>\u001b[0m in \u001b[0;36m<module>\u001b[0;34m\u001b[0m\n\u001b[1;32m      8\u001b[0m \u001b[0;34m\u001b[0m\u001b[0m\n\u001b[1;32m      9\u001b[0m \u001b[0;32mwhile\u001b[0m \u001b[0mtime\u001b[0m\u001b[0;34m.\u001b[0m\u001b[0mtime\u001b[0m\u001b[0;34m(\u001b[0m\u001b[0;34m)\u001b[0m\u001b[0;34m-\u001b[0m\u001b[0mstart_time\u001b[0m \u001b[0;34m<\u001b[0m \u001b[0mExperiment_Time\u001b[0m\u001b[0;34m:\u001b[0m\u001b[0;34m\u001b[0m\u001b[0;34m\u001b[0m\u001b[0m\n\u001b[0;32m---> 10\u001b[0;31m     \u001b[0ms\u001b[0m \u001b[0;34m=\u001b[0m \u001b[0mser\u001b[0m\u001b[0;34m.\u001b[0m\u001b[0mreadline\u001b[0m\u001b[0;34m(\u001b[0m\u001b[0;34m)\u001b[0m\u001b[0;34m.\u001b[0m\u001b[0mdecode\u001b[0m\u001b[0;34m(\u001b[0m\u001b[0merrors\u001b[0m\u001b[0;34m=\u001b[0m\u001b[0;34m'ignore'\u001b[0m\u001b[0;34m)\u001b[0m\u001b[0;34m\u001b[0m\u001b[0;34m\u001b[0m\u001b[0m\n\u001b[0m\u001b[1;32m     11\u001b[0m     \u001b[0mcurr_time\u001b[0m \u001b[0;34m=\u001b[0m \u001b[0mtime\u001b[0m\u001b[0;34m.\u001b[0m\u001b[0mtime\u001b[0m\u001b[0;34m(\u001b[0m\u001b[0;34m)\u001b[0m \u001b[0;34m-\u001b[0m \u001b[0mstart_time\u001b[0m\u001b[0;34m\u001b[0m\u001b[0;34m\u001b[0m\u001b[0m\n\u001b[1;32m     12\u001b[0m     \u001b[0mt\u001b[0m\u001b[0;34m.\u001b[0m\u001b[0mappend\u001b[0m\u001b[0;34m(\u001b[0m\u001b[0mcurr_time\u001b[0m\u001b[0;34m)\u001b[0m\u001b[0;34m\u001b[0m\u001b[0;34m\u001b[0m\u001b[0m\n",
      "\u001b[0;32m/opt/anaconda3/lib/python3.8/site-packages/serial/serialposix.py\u001b[0m in \u001b[0;36mread\u001b[0;34m(self, size)\u001b[0m\n\u001b[1;32m    563\u001b[0m         \u001b[0;32mwhile\u001b[0m \u001b[0mlen\u001b[0m\u001b[0;34m(\u001b[0m\u001b[0mread\u001b[0m\u001b[0;34m)\u001b[0m \u001b[0;34m<\u001b[0m \u001b[0msize\u001b[0m\u001b[0;34m:\u001b[0m\u001b[0;34m\u001b[0m\u001b[0;34m\u001b[0m\u001b[0m\n\u001b[1;32m    564\u001b[0m             \u001b[0;32mtry\u001b[0m\u001b[0;34m:\u001b[0m\u001b[0;34m\u001b[0m\u001b[0;34m\u001b[0m\u001b[0m\n\u001b[0;32m--> 565\u001b[0;31m                 \u001b[0mready\u001b[0m\u001b[0;34m,\u001b[0m \u001b[0m_\u001b[0m\u001b[0;34m,\u001b[0m \u001b[0m_\u001b[0m \u001b[0;34m=\u001b[0m \u001b[0mselect\u001b[0m\u001b[0;34m.\u001b[0m\u001b[0mselect\u001b[0m\u001b[0;34m(\u001b[0m\u001b[0;34m[\u001b[0m\u001b[0mself\u001b[0m\u001b[0;34m.\u001b[0m\u001b[0mfd\u001b[0m\u001b[0;34m,\u001b[0m \u001b[0mself\u001b[0m\u001b[0;34m.\u001b[0m\u001b[0mpipe_abort_read_r\u001b[0m\u001b[0;34m]\u001b[0m\u001b[0;34m,\u001b[0m \u001b[0;34m[\u001b[0m\u001b[0;34m]\u001b[0m\u001b[0;34m,\u001b[0m \u001b[0;34m[\u001b[0m\u001b[0;34m]\u001b[0m\u001b[0;34m,\u001b[0m \u001b[0mtimeout\u001b[0m\u001b[0;34m.\u001b[0m\u001b[0mtime_left\u001b[0m\u001b[0;34m(\u001b[0m\u001b[0;34m)\u001b[0m\u001b[0;34m)\u001b[0m\u001b[0;34m\u001b[0m\u001b[0;34m\u001b[0m\u001b[0m\n\u001b[0m\u001b[1;32m    566\u001b[0m                 \u001b[0;32mif\u001b[0m \u001b[0mself\u001b[0m\u001b[0;34m.\u001b[0m\u001b[0mpipe_abort_read_r\u001b[0m \u001b[0;32min\u001b[0m \u001b[0mready\u001b[0m\u001b[0;34m:\u001b[0m\u001b[0;34m\u001b[0m\u001b[0;34m\u001b[0m\u001b[0m\n\u001b[1;32m    567\u001b[0m                     \u001b[0mos\u001b[0m\u001b[0;34m.\u001b[0m\u001b[0mread\u001b[0m\u001b[0;34m(\u001b[0m\u001b[0mself\u001b[0m\u001b[0;34m.\u001b[0m\u001b[0mpipe_abort_read_r\u001b[0m\u001b[0;34m,\u001b[0m \u001b[0;36m1000\u001b[0m\u001b[0;34m)\u001b[0m\u001b[0;34m\u001b[0m\u001b[0;34m\u001b[0m\u001b[0m\n",
      "\u001b[0;31mKeyboardInterrupt\u001b[0m: "
     ]
    }
   ],
   "source": [
    "Day = 60*60*24\n",
    "Number_of_Days = 1\n",
    "Experiment_Time = Day*Number_of_Days\n",
    "print(Experiment_Time)\n",
    "start_time = time.time()\n",
    "t=[]\n",
    "x=[]\n",
    "\n",
    "while time.time()-start_time < Experiment_Time:\n",
    "    s = ser.readline().decode(errors='ignore')\n",
    "    curr_time = time.time() - start_time\n",
    "    t.append(curr_time)\n",
    "    rows = [float(o) for o in s.split(' ')]\n",
    "    X=rows[0]\n",
    "    Y=rows[1]  \n",
    "    Z=rows[2]\n",
    "    print(str(curr_time) + \" \" + str(X) + \" \" + str(Y) + \" \" + str(Z))\n",
    "    \n",
    "    \n",
    "    Tfile.write(\"%f %f %f %f \\n\" % (curr_time,X,Y,Z))\n",
    "    Tfile.flush()\n",
    "    # plt.scatter(i,X, color='r')\n",
    "    # plt.scatter(i,Y, color = 'b')\n",
    "\n",
    "    \n",
    "    # plt.show()\n",
    "    # fig.canvas.draw()\n",
    "    # plt.pause(0.000001)  # Note this correction\n",
    "\n",
    "ser.close()    \n",
    "Tfile.close()"
   ]
  },
  {
   "cell_type": "code",
   "execution_count": null,
   "metadata": {},
   "outputs": [],
   "source": [
    "ser.close()"
   ]
  }
 ],
 "metadata": {
  "kernelspec": {
   "display_name": "Python 3",
   "language": "python",
   "name": "python3"
  },
  "language_info": {
   "codemirror_mode": {
    "name": "ipython",
    "version": 3
   },
   "file_extension": ".py",
   "mimetype": "text/x-python",
   "name": "python",
   "nbconvert_exporter": "python",
   "pygments_lexer": "ipython3",
   "version": "3.8.5"
  }
 },
 "nbformat": 4,
 "nbformat_minor": 4
}
